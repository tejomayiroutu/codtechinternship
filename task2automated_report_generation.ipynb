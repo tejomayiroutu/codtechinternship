{
 "cells": [
  {
   "cell_type": "code",
   "execution_count": 2,
   "id": "649e0c5f-8d37-4b69-9cd2-c3b624560e41",
   "metadata": {},
   "outputs": [
    {
     "name": "stdin",
     "output_type": "stream",
     "text": [
      "Enter the path to your CSV or Excel file (e.g., data.csv or data.xlsx):  data.csv\n"
     ]
    },
    {
     "name": "stdout",
     "output_type": "stream",
     "text": [
      "PDF Report generated: Generated_Report.pdf\n"
     ]
    }
   ],
   "source": [
    "from fpdf import FPDF\n",
    "import pandas as pd\n",
    "# Function to read and analyze data from a file (CSV or Excel)\n",
    "def analyze_data(file_path):\n",
    "    try:\n",
    "        if file_path.endswith(\".csv\"):\n",
    "            data = pd.read_csv(file_path)\n",
    "        elif file_path.endswith(\".xlsx\"):\n",
    "            data = pd.read_excel(file_path)\n",
    "        else:\n",
    "            raise ValueError(\"Unsupported file format. Please use .csv or .xlsx\")\n",
    "\n",
    "        analysis = {\n",
    "            \"total_rows\": len(data),\n",
    "            \"total_columns\": len(data.columns),\n",
    "            \"column_names\": list(data.columns),\n",
    "            \"sample_data\": data.head(5).to_dict(orient=\"records\")\n",
    "        }\n",
    "        return analysis\n",
    "    except Exception as e:\n",
    "        print(f\"Error reading the file: {e}\")\n",
    "        return None\n",
    "\n",
    "# Function to generate a PDF report\n",
    "def generate_pdf_report(analysis, output_pdf_path):\n",
    "    pdf = FPDF()\n",
    "    pdf.set_auto_page_break(auto=True, margin=15)\n",
    "    pdf.add_page()\n",
    "    pdf.set_font(\"Arial\", size=12)\n",
    "    \n",
    "    # Title\n",
    "    pdf.set_font(\"Arial\", \"B\", 16)\n",
    "    pdf.cell(200, 10, \"Automated Data Analysis Report\", ln=True, align='C')\n",
    "    pdf.ln(10)\n",
    "    \n",
    "    # Basic Info\n",
    "    pdf.set_font(\"Arial\", size=12)\n",
    "    pdf.cell(200, 10, f\"Total Rows: {analysis['total_rows']}\", ln=True)\n",
    "    pdf.cell(200, 10, f\"Total Columns: {analysis['total_columns']}\", ln=True)\n",
    "    pdf.cell(200, 10, f\"Column Names: {', '.join(analysis['column_names'])}\", ln=True)\n",
    "    pdf.ln(10)\n",
    "    \n",
    "    # Sample Data\n",
    "    pdf.set_font(\"Arial\", \"B\", 14)\n",
    "    pdf.cell(200, 10, \"Sample Data:\", ln=True)\n",
    "    pdf.ln(5)\n",
    "    pdf.set_font(\"Arial\", size=12)\n",
    "    for record in analysis[\"sample_data\"]:\n",
    "        for key, value in record.items():\n",
    "            pdf.cell(200, 10, f\"{key}: {value}\", ln=True)\n",
    "        pdf.ln(5)\n",
    "    \n",
    "    # Save the PDF\n",
    "    pdf.output(output_pdf_path)\n",
    "    print(f\"PDF Report generated: {output_pdf_path}\")\n",
    "\n",
    "# Main function to execute the task\n",
    "def main():\n",
    "    # Provide the file path for your data file\n",
    "    file_path = input(\"Enter the path to your CSV or Excel file (e.g., data.csv or data.xlsx): \")\n",
    "    output_pdf_path = \"Generated_Report.pdf\"\n",
    "    \n",
    "    # Analyze data and generate the report\n",
    "    analysis = analyze_data(file_path)\n",
    "    if analysis:\n",
    "        generate_pdf_report(analysis, output_pdf_path)\n",
    "\n",
    "if __name__ == \"__main__\":\n",
    "    main()\n"
   ]
  }
 ],
 "metadata": {
  "kernelspec": {
   "display_name": "Python 3 (ipykernel)",
   "language": "python",
   "name": "python3"
  },
  "language_info": {
   "codemirror_mode": {
    "name": "ipython",
    "version": 3
   },
   "file_extension": ".py",
   "mimetype": "text/x-python",
   "name": "python",
   "nbconvert_exporter": "python",
   "pygments_lexer": "ipython3",
   "version": "3.13.5"
  }
 },
 "nbformat": 4,
 "nbformat_minor": 5
}
