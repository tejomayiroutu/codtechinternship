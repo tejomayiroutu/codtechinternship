{
 "cells": [
  {
   "cell_type": "markdown",
   "id": "1ffd3051",
   "metadata": {},
   "source": [
    "# Internship Task 3 - AI Chatbot with NLP"
   ]
  },
  {
   "cell_type": "markdown",
   "id": "16da7e5e",
   "metadata": {},
   "source": [
    "This notebook demonstrates the creation of a simple AI chatbot using Natural Language Processing (NLP) libraries such as NLTK. \n",
    "The chatbot is capable of answering basic user queries."
   ]
  },
  {
   "cell_type": "code",
   "execution_count": null,
   "id": "aee77765",
   "metadata": {},
   "outputs": [],
   "source": [
    "# Import necessary libraries\n",
    "import nltk\n",
    "from nltk.tokenize import word_tokenize\n",
    "from nltk.corpus import stopwords\n",
    "import string\n",
    "\n",
    "# Download necessary NLTK data\n",
    "nltk.download('punkt')\n",
    "nltk.download('stopwords')"
   ]
  },
  {
   "cell_type": "code",
   "execution_count": null,
   "id": "a4692efb",
   "metadata": {},
   "outputs": [],
   "source": [
    "# Define chatbot functions\n",
    "def preprocess_input(user_input):\n",
    "    # Tokenize input, remove punctuation and stopwords\n",
    "    tokens = word_tokenize(user_input.lower())\n",
    "    stop_words = set(stopwords.words('english'))\n",
    "    tokens = [word for word in tokens if word not in stop_words and word not in string.punctuation]\n",
    "    return tokens\n",
    "\n",
    "def get_response(user_input):\n",
    "    tokens = preprocess_input(user_input)\n",
    "    if \"hello\" in tokens or \"hi\" in tokens:\n",
    "        return \"Hello! How can I assist you today?\"\n",
    "    elif \"bye\" in tokens:\n",
    "        return \"Goodbye! Have a great day!\"\n",
    "    else:\n",
    "        return \"I'm sorry, I didn't understand that.\"\n",
    "\n",
    "# Run the chatbot\n",
    "def chatbot():\n",
    "    print(\"Chatbot: Hi! I am your AI assistant. Type 'exit' to end the chat.\")\n",
    "    while True:\n",
    "        user_input = input(\"You: \")\n",
    "        if user_input.lower() == \"exit\":\n",
    "            print(\"Chatbot: Goodbye!\")\n",
    "            break\n",
    "        response = get_response(user_input)\n",
    "        print(f\"Chatbot: {response}\")\n",
    "\n",
    "# Start the chatbot\n",
    "chatbot()"
   ]
  }
 ],
 "metadata": {},
 "nbformat": 4,
 "nbformat_minor": 5
}
